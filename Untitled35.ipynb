{
  "nbformat": 4,
  "nbformat_minor": 0,
  "metadata": {
    "colab": {
      "provenance": []
    },
    "kernelspec": {
      "name": "python3",
      "display_name": "Python 3"
    },
    "language_info": {
      "name": "python"
    }
  },
  "cells": [
    {
      "cell_type": "code",
      "execution_count": 348,
      "metadata": {
        "id": "Mc8Qd3M4H2iy"
      },
      "outputs": [],
      "source": [
        "import pandas as pd\n",
        "import numpy as np\n",
        "import matplotlib.pyplot as plt\n",
        "pd.set_option('display.max_columns', 74)\n",
        "pd.set_option('display.max_rows', 40)"
      ]
    },
    {
      "cell_type": "code",
      "source": [
        "df = pd.read_csv('/content/Uncleaned_DS_jobs.csv')"
      ],
      "metadata": {
        "id": "4pJAPd_IIBUT"
      },
      "execution_count": 349,
      "outputs": []
    },
    {
      "cell_type": "code",
      "source": [
        "df.head()"
      ],
      "metadata": {
        "colab": {
          "base_uri": "https://localhost:8080/",
          "height": 449
        },
        "id": "keKF2ZarIBkf",
        "outputId": "531d9e7e-2280-4e7b-df09-09597fece562"
      },
      "execution_count": 350,
      "outputs": [
        {
          "output_type": "execute_result",
          "data": {
            "text/plain": [
              "   index          Job Title               Salary Estimate  \\\n",
              "0      0  Sr Data Scientist  $137K-$171K (Glassdoor est.)   \n",
              "1      1     Data Scientist  $137K-$171K (Glassdoor est.)   \n",
              "2      2     Data Scientist  $137K-$171K (Glassdoor est.)   \n",
              "3      3     Data Scientist  $137K-$171K (Glassdoor est.)   \n",
              "4      4     Data Scientist  $137K-$171K (Glassdoor est.)   \n",
              "\n",
              "                                     Job Description  Rating  \\\n",
              "0  Description\\n\\nThe Senior Data Scientist is re...     3.1   \n",
              "1  Secure our Nation, Ignite your Future\\n\\nJoin ...     4.2   \n",
              "2  Overview\\n\\n\\nAnalysis Group is one of the lar...     3.8   \n",
              "3  JOB DESCRIPTION:\\n\\nDo you have a passion for ...     3.5   \n",
              "4  Data Scientist\\nAffinity Solutions / Marketing...     2.9   \n",
              "\n",
              "              Company Name       Location            Headquarters  \\\n",
              "0         Healthfirst\\n3.1   New York, NY            New York, NY   \n",
              "1             ManTech\\n4.2  Chantilly, VA             Herndon, VA   \n",
              "2      Analysis Group\\n3.8     Boston, MA              Boston, MA   \n",
              "3             INFICON\\n3.5     Newton, MA  Bad Ragaz, Switzerland   \n",
              "4  Affinity Solutions\\n2.9   New York, NY            New York, NY   \n",
              "\n",
              "                      Size  Founded        Type of ownership  \\\n",
              "0   1001 to 5000 employees     1993   Nonprofit Organization   \n",
              "1  5001 to 10000 employees     1968         Company - Public   \n",
              "2   1001 to 5000 employees     1981  Private Practice / Firm   \n",
              "3    501 to 1000 employees     2000         Company - Public   \n",
              "4      51 to 200 employees     1998        Company - Private   \n",
              "\n",
              "                                Industry             Sector  \\\n",
              "0                     Insurance Carriers          Insurance   \n",
              "1                 Research & Development  Business Services   \n",
              "2                             Consulting  Business Services   \n",
              "3  Electrical & Electronic Manufacturing      Manufacturing   \n",
              "4                Advertising & Marketing  Business Services   \n",
              "\n",
              "                      Revenue  \\\n",
              "0    Unknown / Non-Applicable   \n",
              "1      $1 to $2 billion (USD)   \n",
              "2  $100 to $500 million (USD)   \n",
              "3  $100 to $500 million (USD)   \n",
              "4    Unknown / Non-Applicable   \n",
              "\n",
              "                                         Competitors  \n",
              "0            EmblemHealth, UnitedHealth Group, Aetna  \n",
              "1                                                 -1  \n",
              "2                                                 -1  \n",
              "3  MKS Instruments, Pfeiffer Vacuum, Agilent Tech...  \n",
              "4               Commerce Signals, Cardlytics, Yodlee  "
            ],
            "text/html": [
              "\n",
              "  <div id=\"df-cc4b1761-a293-495e-b04f-053e6ec92553\" class=\"colab-df-container\">\n",
              "    <div>\n",
              "<style scoped>\n",
              "    .dataframe tbody tr th:only-of-type {\n",
              "        vertical-align: middle;\n",
              "    }\n",
              "\n",
              "    .dataframe tbody tr th {\n",
              "        vertical-align: top;\n",
              "    }\n",
              "\n",
              "    .dataframe thead th {\n",
              "        text-align: right;\n",
              "    }\n",
              "</style>\n",
              "<table border=\"1\" class=\"dataframe\">\n",
              "  <thead>\n",
              "    <tr style=\"text-align: right;\">\n",
              "      <th></th>\n",
              "      <th>index</th>\n",
              "      <th>Job Title</th>\n",
              "      <th>Salary Estimate</th>\n",
              "      <th>Job Description</th>\n",
              "      <th>Rating</th>\n",
              "      <th>Company Name</th>\n",
              "      <th>Location</th>\n",
              "      <th>Headquarters</th>\n",
              "      <th>Size</th>\n",
              "      <th>Founded</th>\n",
              "      <th>Type of ownership</th>\n",
              "      <th>Industry</th>\n",
              "      <th>Sector</th>\n",
              "      <th>Revenue</th>\n",
              "      <th>Competitors</th>\n",
              "    </tr>\n",
              "  </thead>\n",
              "  <tbody>\n",
              "    <tr>\n",
              "      <th>0</th>\n",
              "      <td>0</td>\n",
              "      <td>Sr Data Scientist</td>\n",
              "      <td>$137K-$171K (Glassdoor est.)</td>\n",
              "      <td>Description\\n\\nThe Senior Data Scientist is re...</td>\n",
              "      <td>3.1</td>\n",
              "      <td>Healthfirst\\n3.1</td>\n",
              "      <td>New York, NY</td>\n",
              "      <td>New York, NY</td>\n",
              "      <td>1001 to 5000 employees</td>\n",
              "      <td>1993</td>\n",
              "      <td>Nonprofit Organization</td>\n",
              "      <td>Insurance Carriers</td>\n",
              "      <td>Insurance</td>\n",
              "      <td>Unknown / Non-Applicable</td>\n",
              "      <td>EmblemHealth, UnitedHealth Group, Aetna</td>\n",
              "    </tr>\n",
              "    <tr>\n",
              "      <th>1</th>\n",
              "      <td>1</td>\n",
              "      <td>Data Scientist</td>\n",
              "      <td>$137K-$171K (Glassdoor est.)</td>\n",
              "      <td>Secure our Nation, Ignite your Future\\n\\nJoin ...</td>\n",
              "      <td>4.2</td>\n",
              "      <td>ManTech\\n4.2</td>\n",
              "      <td>Chantilly, VA</td>\n",
              "      <td>Herndon, VA</td>\n",
              "      <td>5001 to 10000 employees</td>\n",
              "      <td>1968</td>\n",
              "      <td>Company - Public</td>\n",
              "      <td>Research &amp; Development</td>\n",
              "      <td>Business Services</td>\n",
              "      <td>$1 to $2 billion (USD)</td>\n",
              "      <td>-1</td>\n",
              "    </tr>\n",
              "    <tr>\n",
              "      <th>2</th>\n",
              "      <td>2</td>\n",
              "      <td>Data Scientist</td>\n",
              "      <td>$137K-$171K (Glassdoor est.)</td>\n",
              "      <td>Overview\\n\\n\\nAnalysis Group is one of the lar...</td>\n",
              "      <td>3.8</td>\n",
              "      <td>Analysis Group\\n3.8</td>\n",
              "      <td>Boston, MA</td>\n",
              "      <td>Boston, MA</td>\n",
              "      <td>1001 to 5000 employees</td>\n",
              "      <td>1981</td>\n",
              "      <td>Private Practice / Firm</td>\n",
              "      <td>Consulting</td>\n",
              "      <td>Business Services</td>\n",
              "      <td>$100 to $500 million (USD)</td>\n",
              "      <td>-1</td>\n",
              "    </tr>\n",
              "    <tr>\n",
              "      <th>3</th>\n",
              "      <td>3</td>\n",
              "      <td>Data Scientist</td>\n",
              "      <td>$137K-$171K (Glassdoor est.)</td>\n",
              "      <td>JOB DESCRIPTION:\\n\\nDo you have a passion for ...</td>\n",
              "      <td>3.5</td>\n",
              "      <td>INFICON\\n3.5</td>\n",
              "      <td>Newton, MA</td>\n",
              "      <td>Bad Ragaz, Switzerland</td>\n",
              "      <td>501 to 1000 employees</td>\n",
              "      <td>2000</td>\n",
              "      <td>Company - Public</td>\n",
              "      <td>Electrical &amp; Electronic Manufacturing</td>\n",
              "      <td>Manufacturing</td>\n",
              "      <td>$100 to $500 million (USD)</td>\n",
              "      <td>MKS Instruments, Pfeiffer Vacuum, Agilent Tech...</td>\n",
              "    </tr>\n",
              "    <tr>\n",
              "      <th>4</th>\n",
              "      <td>4</td>\n",
              "      <td>Data Scientist</td>\n",
              "      <td>$137K-$171K (Glassdoor est.)</td>\n",
              "      <td>Data Scientist\\nAffinity Solutions / Marketing...</td>\n",
              "      <td>2.9</td>\n",
              "      <td>Affinity Solutions\\n2.9</td>\n",
              "      <td>New York, NY</td>\n",
              "      <td>New York, NY</td>\n",
              "      <td>51 to 200 employees</td>\n",
              "      <td>1998</td>\n",
              "      <td>Company - Private</td>\n",
              "      <td>Advertising &amp; Marketing</td>\n",
              "      <td>Business Services</td>\n",
              "      <td>Unknown / Non-Applicable</td>\n",
              "      <td>Commerce Signals, Cardlytics, Yodlee</td>\n",
              "    </tr>\n",
              "  </tbody>\n",
              "</table>\n",
              "</div>\n",
              "    <div class=\"colab-df-buttons\">\n",
              "\n",
              "  <div class=\"colab-df-container\">\n",
              "    <button class=\"colab-df-convert\" onclick=\"convertToInteractive('df-cc4b1761-a293-495e-b04f-053e6ec92553')\"\n",
              "            title=\"Convert this dataframe to an interactive table.\"\n",
              "            style=\"display:none;\">\n",
              "\n",
              "  <svg xmlns=\"http://www.w3.org/2000/svg\" height=\"24px\" viewBox=\"0 -960 960 960\">\n",
              "    <path d=\"M120-120v-720h720v720H120Zm60-500h600v-160H180v160Zm220 220h160v-160H400v160Zm0 220h160v-160H400v160ZM180-400h160v-160H180v160Zm440 0h160v-160H620v160ZM180-180h160v-160H180v160Zm440 0h160v-160H620v160Z\"/>\n",
              "  </svg>\n",
              "    </button>\n",
              "\n",
              "  <style>\n",
              "    .colab-df-container {\n",
              "      display:flex;\n",
              "      gap: 12px;\n",
              "    }\n",
              "\n",
              "    .colab-df-convert {\n",
              "      background-color: #E8F0FE;\n",
              "      border: none;\n",
              "      border-radius: 50%;\n",
              "      cursor: pointer;\n",
              "      display: none;\n",
              "      fill: #1967D2;\n",
              "      height: 32px;\n",
              "      padding: 0 0 0 0;\n",
              "      width: 32px;\n",
              "    }\n",
              "\n",
              "    .colab-df-convert:hover {\n",
              "      background-color: #E2EBFA;\n",
              "      box-shadow: 0px 1px 2px rgba(60, 64, 67, 0.3), 0px 1px 3px 1px rgba(60, 64, 67, 0.15);\n",
              "      fill: #174EA6;\n",
              "    }\n",
              "\n",
              "    .colab-df-buttons div {\n",
              "      margin-bottom: 4px;\n",
              "    }\n",
              "\n",
              "    [theme=dark] .colab-df-convert {\n",
              "      background-color: #3B4455;\n",
              "      fill: #D2E3FC;\n",
              "    }\n",
              "\n",
              "    [theme=dark] .colab-df-convert:hover {\n",
              "      background-color: #434B5C;\n",
              "      box-shadow: 0px 1px 3px 1px rgba(0, 0, 0, 0.15);\n",
              "      filter: drop-shadow(0px 1px 2px rgba(0, 0, 0, 0.3));\n",
              "      fill: #FFFFFF;\n",
              "    }\n",
              "  </style>\n",
              "\n",
              "    <script>\n",
              "      const buttonEl =\n",
              "        document.querySelector('#df-cc4b1761-a293-495e-b04f-053e6ec92553 button.colab-df-convert');\n",
              "      buttonEl.style.display =\n",
              "        google.colab.kernel.accessAllowed ? 'block' : 'none';\n",
              "\n",
              "      async function convertToInteractive(key) {\n",
              "        const element = document.querySelector('#df-cc4b1761-a293-495e-b04f-053e6ec92553');\n",
              "        const dataTable =\n",
              "          await google.colab.kernel.invokeFunction('convertToInteractive',\n",
              "                                                    [key], {});\n",
              "        if (!dataTable) return;\n",
              "\n",
              "        const docLinkHtml = 'Like what you see? Visit the ' +\n",
              "          '<a target=\"_blank\" href=https://colab.research.google.com/notebooks/data_table.ipynb>data table notebook</a>'\n",
              "          + ' to learn more about interactive tables.';\n",
              "        element.innerHTML = '';\n",
              "        dataTable['output_type'] = 'display_data';\n",
              "        await google.colab.output.renderOutput(dataTable, element);\n",
              "        const docLink = document.createElement('div');\n",
              "        docLink.innerHTML = docLinkHtml;\n",
              "        element.appendChild(docLink);\n",
              "      }\n",
              "    </script>\n",
              "  </div>\n",
              "\n",
              "\n",
              "<div id=\"df-7065346d-3df9-4219-919e-4a272243e515\">\n",
              "  <button class=\"colab-df-quickchart\" onclick=\"quickchart('df-7065346d-3df9-4219-919e-4a272243e515')\"\n",
              "            title=\"Suggest charts\"\n",
              "            style=\"display:none;\">\n",
              "\n",
              "<svg xmlns=\"http://www.w3.org/2000/svg\" height=\"24px\"viewBox=\"0 0 24 24\"\n",
              "     width=\"24px\">\n",
              "    <g>\n",
              "        <path d=\"M19 3H5c-1.1 0-2 .9-2 2v14c0 1.1.9 2 2 2h14c1.1 0 2-.9 2-2V5c0-1.1-.9-2-2-2zM9 17H7v-7h2v7zm4 0h-2V7h2v10zm4 0h-2v-4h2v4z\"/>\n",
              "    </g>\n",
              "</svg>\n",
              "  </button>\n",
              "\n",
              "<style>\n",
              "  .colab-df-quickchart {\n",
              "      --bg-color: #E8F0FE;\n",
              "      --fill-color: #1967D2;\n",
              "      --hover-bg-color: #E2EBFA;\n",
              "      --hover-fill-color: #174EA6;\n",
              "      --disabled-fill-color: #AAA;\n",
              "      --disabled-bg-color: #DDD;\n",
              "  }\n",
              "\n",
              "  [theme=dark] .colab-df-quickchart {\n",
              "      --bg-color: #3B4455;\n",
              "      --fill-color: #D2E3FC;\n",
              "      --hover-bg-color: #434B5C;\n",
              "      --hover-fill-color: #FFFFFF;\n",
              "      --disabled-bg-color: #3B4455;\n",
              "      --disabled-fill-color: #666;\n",
              "  }\n",
              "\n",
              "  .colab-df-quickchart {\n",
              "    background-color: var(--bg-color);\n",
              "    border: none;\n",
              "    border-radius: 50%;\n",
              "    cursor: pointer;\n",
              "    display: none;\n",
              "    fill: var(--fill-color);\n",
              "    height: 32px;\n",
              "    padding: 0;\n",
              "    width: 32px;\n",
              "  }\n",
              "\n",
              "  .colab-df-quickchart:hover {\n",
              "    background-color: var(--hover-bg-color);\n",
              "    box-shadow: 0 1px 2px rgba(60, 64, 67, 0.3), 0 1px 3px 1px rgba(60, 64, 67, 0.15);\n",
              "    fill: var(--button-hover-fill-color);\n",
              "  }\n",
              "\n",
              "  .colab-df-quickchart-complete:disabled,\n",
              "  .colab-df-quickchart-complete:disabled:hover {\n",
              "    background-color: var(--disabled-bg-color);\n",
              "    fill: var(--disabled-fill-color);\n",
              "    box-shadow: none;\n",
              "  }\n",
              "\n",
              "  .colab-df-spinner {\n",
              "    border: 2px solid var(--fill-color);\n",
              "    border-color: transparent;\n",
              "    border-bottom-color: var(--fill-color);\n",
              "    animation:\n",
              "      spin 1s steps(1) infinite;\n",
              "  }\n",
              "\n",
              "  @keyframes spin {\n",
              "    0% {\n",
              "      border-color: transparent;\n",
              "      border-bottom-color: var(--fill-color);\n",
              "      border-left-color: var(--fill-color);\n",
              "    }\n",
              "    20% {\n",
              "      border-color: transparent;\n",
              "      border-left-color: var(--fill-color);\n",
              "      border-top-color: var(--fill-color);\n",
              "    }\n",
              "    30% {\n",
              "      border-color: transparent;\n",
              "      border-left-color: var(--fill-color);\n",
              "      border-top-color: var(--fill-color);\n",
              "      border-right-color: var(--fill-color);\n",
              "    }\n",
              "    40% {\n",
              "      border-color: transparent;\n",
              "      border-right-color: var(--fill-color);\n",
              "      border-top-color: var(--fill-color);\n",
              "    }\n",
              "    60% {\n",
              "      border-color: transparent;\n",
              "      border-right-color: var(--fill-color);\n",
              "    }\n",
              "    80% {\n",
              "      border-color: transparent;\n",
              "      border-right-color: var(--fill-color);\n",
              "      border-bottom-color: var(--fill-color);\n",
              "    }\n",
              "    90% {\n",
              "      border-color: transparent;\n",
              "      border-bottom-color: var(--fill-color);\n",
              "    }\n",
              "  }\n",
              "</style>\n",
              "\n",
              "  <script>\n",
              "    async function quickchart(key) {\n",
              "      const quickchartButtonEl =\n",
              "        document.querySelector('#' + key + ' button');\n",
              "      quickchartButtonEl.disabled = true;  // To prevent multiple clicks.\n",
              "      quickchartButtonEl.classList.add('colab-df-spinner');\n",
              "      try {\n",
              "        const charts = await google.colab.kernel.invokeFunction(\n",
              "            'suggestCharts', [key], {});\n",
              "      } catch (error) {\n",
              "        console.error('Error during call to suggestCharts:', error);\n",
              "      }\n",
              "      quickchartButtonEl.classList.remove('colab-df-spinner');\n",
              "      quickchartButtonEl.classList.add('colab-df-quickchart-complete');\n",
              "    }\n",
              "    (() => {\n",
              "      let quickchartButtonEl =\n",
              "        document.querySelector('#df-7065346d-3df9-4219-919e-4a272243e515 button');\n",
              "      quickchartButtonEl.style.display =\n",
              "        google.colab.kernel.accessAllowed ? 'block' : 'none';\n",
              "    })();\n",
              "  </script>\n",
              "</div>\n",
              "\n",
              "    </div>\n",
              "  </div>\n"
            ]
          },
          "metadata": {},
          "execution_count": 350
        }
      ]
    },
    {
      "cell_type": "markdown",
      "source": [
        "## **check if the dataset contains Null values**"
      ],
      "metadata": {
        "id": "KV5SVnthdvBF"
      }
    },
    {
      "cell_type": "code",
      "source": [
        "df.isnull().sum()"
      ],
      "metadata": {
        "colab": {
          "base_uri": "https://localhost:8080/"
        },
        "id": "mGuIOdMVIBn8",
        "outputId": "a9148267-e14f-4eaf-f20d-15ba5e96a888"
      },
      "execution_count": 351,
      "outputs": [
        {
          "output_type": "execute_result",
          "data": {
            "text/plain": [
              "index                0\n",
              "Job Title            0\n",
              "Salary Estimate      0\n",
              "Job Description      0\n",
              "Rating               0\n",
              "Company Name         0\n",
              "Location             0\n",
              "Headquarters         0\n",
              "Size                 0\n",
              "Founded              0\n",
              "Type of ownership    0\n",
              "Industry             0\n",
              "Sector               0\n",
              "Revenue              0\n",
              "Competitors          0\n",
              "dtype: int64"
            ]
          },
          "metadata": {},
          "execution_count": 351
        }
      ]
    },
    {
      "cell_type": "markdown",
      "source": [
        "## **replace the columns that have space between 2 words to '_'**"
      ],
      "metadata": {
        "id": "Qx1oX0Oce_JI"
      }
    },
    {
      "cell_type": "code",
      "source": [
        "col=[col.strip().replace(\" \",\"_\").lower() for col in df.columns]\n",
        "df.columns = col\n",
        "df.columns"
      ],
      "metadata": {
        "colab": {
          "base_uri": "https://localhost:8080/"
        },
        "id": "8pRZF9n1IBtM",
        "outputId": "8deb84ac-5739-4a31-879d-e50754289627"
      },
      "execution_count": 352,
      "outputs": [
        {
          "output_type": "execute_result",
          "data": {
            "text/plain": [
              "Index(['index', 'job_title', 'salary_estimate', 'job_description', 'rating',\n",
              "       'company_name', 'location', 'headquarters', 'size', 'founded',\n",
              "       'type_of_ownership', 'industry', 'sector', 'revenue', 'competitors'],\n",
              "      dtype='object')"
            ]
          },
          "metadata": {},
          "execution_count": 352
        }
      ]
    },
    {
      "cell_type": "markdown",
      "source": [
        "## **create a function to change the title of the position**"
      ],
      "metadata": {
        "id": "1leMcZYxqphb"
      }
    },
    {
      "cell_type": "code",
      "source": [
        "def get_position(x):\n",
        "  if 'scientist' in x.lower() and 'machine learning' in x.lower():\n",
        "    return 'Data Science/Machine Learning'\n",
        "  elif 'machine learning' in x.lower() and 'deep learning' in x.lower():\n",
        "    return 'Machine Learning/Deep Learning'\n",
        "  elif 'machine learning' in x.lower() and 'computer vision' in x.lower():\n",
        "    return 'Machine Learning/Computer Vision'\n",
        "  elif 'deep learning' in x.lower() and 'computer vision' in x.lower():\n",
        "    return 'Deep Learning/Computer Vision'\n",
        "  elif 'scientist' in x.lower() or 'science' in x.lower():\n",
        "    return 'Data Science'\n",
        "  elif 'analyst' in x.lower() or 'analysis' in x.lower() or 'analytics' in x.lower():\n",
        "    return 'Data Analysis'\n",
        "  elif 'business' in x.lower() :\n",
        "    return 'Business Intelligence'\n",
        "  elif 'engineer' in x.lower() :\n",
        "    return 'Data Engineer'\n",
        "  elif 'machine learning' in x.lower():\n",
        "    return 'Machine Learrning'\n",
        "  elif 'architect' in x.lower():\n",
        "    return 'Data Architecture'\n",
        "  else:\n",
        "    return 'Data Modeler'\n",
        ""
      ],
      "metadata": {
        "id": "2aXOScc3IBvr"
      },
      "execution_count": 353,
      "outputs": []
    },
    {
      "cell_type": "markdown",
      "source": [
        "## **apply it on job_title**"
      ],
      "metadata": {
        "id": "rdADkHCOq1zk"
      }
    },
    {
      "cell_type": "code",
      "source": [
        "df['job_title'] = df['job_title'].apply(get_position)\n",
        "df['job_title']"
      ],
      "metadata": {
        "colab": {
          "base_uri": "https://localhost:8080/"
        },
        "id": "rTHI-nbdIByA",
        "outputId": "12985d47-b165-415f-f115-00b370aa6b1f"
      },
      "execution_count": 354,
      "outputs": [
        {
          "output_type": "execute_result",
          "data": {
            "text/plain": [
              "0      Data Science\n",
              "1      Data Science\n",
              "2      Data Science\n",
              "3      Data Science\n",
              "4      Data Science\n",
              "           ...     \n",
              "667    Data Science\n",
              "668    Data Science\n",
              "669    Data Science\n",
              "670    Data Science\n",
              "671    Data Science\n",
              "Name: job_title, Length: 672, dtype: object"
            ]
          },
          "metadata": {},
          "execution_count": 354
        }
      ]
    },
    {
      "cell_type": "markdown",
      "source": [
        "## **extract the min/max salary from salary_estimate**"
      ],
      "metadata": {
        "id": "8vKEw97otRwc"
      }
    },
    {
      "cell_type": "code",
      "source": [
        "df['salary_estimate'] = df['salary_estimate'].str.replace('$','')\n",
        "df['salary_estimate'] = df['salary_estimate'].str.replace('K','')\n",
        "df['min_salary'] = df['salary_estimate'].apply(lambda x :int(x.split('(')[0].split('-')[0]))\n",
        "df['max_salary'] = df['salary_estimate'].apply(lambda x :int(x.split('(')[0].split('-')[1]))"
      ],
      "metadata": {
        "colab": {
          "base_uri": "https://localhost:8080/"
        },
        "id": "hHyPfleQrdVm",
        "outputId": "fc19f72e-877b-4023-faa8-09d9ec2db3d8"
      },
      "execution_count": 355,
      "outputs": [
        {
          "output_type": "stream",
          "name": "stderr",
          "text": [
            "<ipython-input-355-1de042c4b791>:1: FutureWarning: The default value of regex will change from True to False in a future version. In addition, single character regular expressions will *not* be treated as literal strings when regex=True.\n",
            "  df['salary_estimate'] = df['salary_estimate'].str.replace('$','')\n"
          ]
        }
      ]
    },
    {
      "cell_type": "markdown",
      "source": [
        "## **extract the name of the company**"
      ],
      "metadata": {
        "id": "KkuaKF8XPvu-"
      }
    },
    {
      "cell_type": "code",
      "source": [
        "df['company_name'] = df['company_name'].apply(lambda x : x.split('\\n')[0])"
      ],
      "metadata": {
        "id": "oui-aycFtOwo"
      },
      "execution_count": 356,
      "outputs": []
    },
    {
      "cell_type": "markdown",
      "source": [
        "## **extract the code of the state**"
      ],
      "metadata": {
        "id": "jzLfKS7jP6eD"
      }
    },
    {
      "cell_type": "code",
      "source": [
        "df['state']=df['location'].apply(lambda x:x.split(',')[-1])"
      ],
      "metadata": {
        "id": "YOsaDjPzvA5D"
      },
      "execution_count": 357,
      "outputs": []
    },
    {
      "cell_type": "markdown",
      "source": [
        "## **remove the extra words to extract the numbers**"
      ],
      "metadata": {
        "id": "gda6eeeCQEER"
      }
    },
    {
      "cell_type": "code",
      "source": [
        "df['size'] = df['size'].str.replace('to','-').str.replace('employees','').str.replace('+','').replace('-1',0).replace('Unknown',0)"
      ],
      "metadata": {
        "colab": {
          "base_uri": "https://localhost:8080/"
        },
        "id": "gCebJptMv-12",
        "outputId": "6faad88f-1f14-4c19-d851-6732ec0bca68"
      },
      "execution_count": 358,
      "outputs": [
        {
          "output_type": "stream",
          "name": "stderr",
          "text": [
            "<ipython-input-358-917eb26f1ff7>:1: FutureWarning: The default value of regex will change from True to False in a future version. In addition, single character regular expressions will *not* be treated as literal strings when regex=True.\n",
            "  df['size'] = df['size'].str.replace('to','-').str.replace('employees','').str.replace('+','').replace('-1',0).replace('Unknown',0)\n"
          ]
        }
      ]
    },
    {
      "cell_type": "markdown",
      "source": [
        "## **extract min and max employees**"
      ],
      "metadata": {
        "id": "UzXIxV4mQnYr"
      }
    },
    {
      "cell_type": "code",
      "source": [
        "df['min_employees'] = df['size'].astype(str).apply(lambda x : int(x.split()[0]))\n",
        "df['max_employees'] = df['size'].astype(str).apply(lambda x : int(x.split()[-1]))\n"
      ],
      "metadata": {
        "id": "9wQW2IL_3gDy"
      },
      "execution_count": 359,
      "outputs": []
    },
    {
      "cell_type": "markdown",
      "source": [
        "## **Count the number of years since the company was established.**"
      ],
      "metadata": {
        "id": "m05SqjZ1Qxej"
      }
    },
    {
      "cell_type": "code",
      "source": [
        "df['established'] = df['founded'].apply(lambda x :  0 if x<1 else 2024-x )"
      ],
      "metadata": {
        "id": "CvWbjz298Deb"
      },
      "execution_count": 361,
      "outputs": []
    },
    {
      "cell_type": "markdown",
      "source": [
        "## **drop some of unnecessary columns**"
      ],
      "metadata": {
        "id": "3z6WIWNPRJez"
      }
    },
    {
      "cell_type": "code",
      "source": [
        "df = df.drop(['index','job_title','salary_estimate','location','headquarters','size','founded','sector','competitors'],axis=1)"
      ],
      "metadata": {
        "id": "XF590CVt7jLT"
      },
      "execution_count": 362,
      "outputs": []
    },
    {
      "cell_type": "markdown",
      "source": [
        "## **remove the extra characters to extract the numbers**"
      ],
      "metadata": {
        "id": "oLr-V7vERVdT"
      }
    },
    {
      "cell_type": "code",
      "source": [
        "df['revenue'] = df['revenue'].str.replace('$','').str.replace('to','-').str.replace(' billion','000000000').str.replace(' million ',\n",
        "  '000000').str.replace('USD','').str.replace('(','').str.replace(')','').str.replace('/','').str.replace('Non-Applicable','').str.replace('Unknown','0').str.replace('-1',\n",
        "  '0').str.replace('+','').str.replace('Less than','')"
      ],
      "metadata": {
        "colab": {
          "base_uri": "https://localhost:8080/"
        },
        "id": "7T430jcfBKoT",
        "outputId": "7ec8606a-68fa-475d-fcb3-2bb35feea9e4"
      },
      "execution_count": 363,
      "outputs": [
        {
          "output_type": "stream",
          "name": "stderr",
          "text": [
            "<ipython-input-363-167c7e5daed2>:1: FutureWarning: The default value of regex will change from True to False in a future version. In addition, single character regular expressions will *not* be treated as literal strings when regex=True.\n",
            "  df['revenue'] = df['revenue'].str.replace('$','').str.replace('to','-').str.replace(' billion','000000000').str.replace(' million ',\n",
            "<ipython-input-363-167c7e5daed2>:2: FutureWarning: The default value of regex will change from True to False in a future version. In addition, single character regular expressions will *not* be treated as literal strings when regex=True.\n",
            "  '000000').str.replace('USD','').str.replace('(','').str.replace(')','').str.replace('/','').str.replace('Non-Applicable','').str.replace('Unknown','0').str.replace('-1',\n",
            "<ipython-input-363-167c7e5daed2>:3: FutureWarning: The default value of regex will change from True to False in a future version. In addition, single character regular expressions will *not* be treated as literal strings when regex=True.\n",
            "  '0').str.replace('+','').str.replace('Less than','')\n"
          ]
        }
      ]
    },
    {
      "cell_type": "markdown",
      "source": [
        "## **extract min and max revenue**"
      ],
      "metadata": {
        "id": "H9-qpiBRRfPi"
      }
    },
    {
      "cell_type": "code",
      "source": [
        "df['min_revenue'] = df['revenue'].apply(lambda x : int(x.split('-')[0]))\n",
        "df['max_revenue'] = df['revenue'].apply(lambda x : int(x.split('-')[-1]))"
      ],
      "metadata": {
        "id": "D70hBvnUEHWL"
      },
      "execution_count": 369,
      "outputs": []
    },
    {
      "cell_type": "markdown",
      "source": [
        "## **drop the revenue after take the number from it**"
      ],
      "metadata": {
        "id": "fPTKH6C4Rnlq"
      }
    },
    {
      "cell_type": "code",
      "source": [
        "df.drop('revenue',axis = 1,inplace=True)"
      ],
      "metadata": {
        "id": "y52QyoP2Mm3M"
      },
      "execution_count": 380,
      "outputs": []
    },
    {
      "cell_type": "markdown",
      "source": [
        "## **remove the extra spaces**"
      ],
      "metadata": {
        "id": "ZBqksAS7Rtw1"
      }
    },
    {
      "cell_type": "code",
      "source": [
        "df['job_description'] = df['job_description'].str.replace('\\n',' ')"
      ],
      "metadata": {
        "id": "Yh7da6alMS8Z"
      },
      "execution_count": 381,
      "outputs": []
    },
    {
      "cell_type": "code",
      "source": [],
      "metadata": {
        "id": "EpmqOwitIB9R"
      },
      "execution_count": 366,
      "outputs": []
    }
  ]
}